{
 "cells": [
  {
   "cell_type": "code",
   "execution_count": 3,
   "metadata": {
    "collapsed": true
   },
   "outputs": [],
   "source": [
    "# Definition for singly-linked list.\n",
    "class ListNode:\n",
    "    def __init__(self, x):\n",
    "        self.val = x\n",
    "        self.next = None"
   ]
  },
  {
   "cell_type": "code",
   "execution_count": 4,
   "metadata": {
    "collapsed": true
   },
   "outputs": [],
   "source": [
    "import copy\n",
    "\n",
    "class Solution:\n",
    "    def addTwoNumbers(self, l1, l2):\n",
    "        \"\"\"\n",
    "        :type l1: ListNode\n",
    "        :type l2: ListNode\n",
    "        :rtype: ListNode\n",
    "        \"\"\"\n",
    "        # # traverse\n",
    "        # l1_temp = copy.copy(l1)\n",
    "        # while l1_temp != None:\n",
    "        #     print(l1_temp.val)\n",
    "        #     l1_temp = l1_temp.next\n",
    "        \n",
    "        temp1 = copy.copy(l1)\n",
    "        temp2 = copy.copy(l2)\n",
    "        l3 = ListNode(None)\n",
    "        temp3 = l3\n",
    "        \n",
    "        previous_carry = 0\n",
    "        carry = 0\n",
    "        while True:\n",
    "            if (temp1 != None) & (temp2 != None):\n",
    "                if temp1.val + temp2.val >= 10:\n",
    "                    single_val = (temp1.val + temp2.val) - 10\n",
    "                    carry = 1\n",
    "                else:\n",
    "                    single_val = temp1.val + temp2.val\n",
    "                    carry = 0\n",
    "\n",
    "                temp3.val = single_val + previous_carry\n",
    "                previous_carry = carry\n",
    "                \n",
    "                if (temp1.next !=None) | (temp2.next !=None):\n",
    "                    temp3.next = ListNode(None)\n",
    "                    temp3 = temp3.next\n",
    "                else:\n",
    "                    temp3.next = None\n",
    "                \n",
    "                temp1 = temp1.next\n",
    "                temp2 = temp2.next\n",
    "            \n",
    "            elif (temp1 == None) & (temp2 != None):\n",
    "                single_val = temp2.val\n",
    "                carry = 0\n",
    "                temp3.val = single_val + previous_carry\n",
    "                \n",
    "                if temp2.next !=None:\n",
    "                    temp3.next = ListNode(None)\n",
    "                    temp3 = temp3.next\n",
    "                else:\n",
    "                    temp3.next = None\n",
    "                    \n",
    "                previous_carry = carry\n",
    "                temp2 = temp2.next\n",
    "        \n",
    "            elif (temp1 != None) & (temp2 == None):\n",
    "                single_val = temp1.val\n",
    "                carry = 0\n",
    "                temp3.val = single_val + previous_carry\n",
    "\n",
    "                if temp1.next !=None:\n",
    "                    temp3.next = ListNode(None)\n",
    "                    temp3 = temp3.next\n",
    "                else:\n",
    "                    temp3.next = None\n",
    "                \n",
    "                previous_carry = carry\n",
    "                temp2 = temp1.next\n",
    "            \n",
    "            else: # both are None\n",
    "                if previous_carry == 1:\n",
    "                    temp3.next = ListNode(previous_carry)\n",
    "                else:\n",
    "                    temp3 = None\n",
    "                    \n",
    "                return l3\n",
    "        \n",
    "            \n",
    "            "
   ]
  },
  {
   "cell_type": "code",
   "execution_count": 5,
   "metadata": {
    "collapsed": true
   },
   "outputs": [],
   "source": [
    "l1 = ListNode(0)\n",
    "l2 = ListNode(1)\n",
    "l2.next = ListNode(8)\n",
    "\n",
    "ret = Solution().addTwoNumbers(l1, l2)\n"
   ]
  },
  {
   "cell_type": "code",
   "execution_count": 6,
   "metadata": {},
   "outputs": [
    {
     "name": "stdout",
     "output_type": "stream",
     "text": [
      "1\n",
      "8\n"
     ]
    }
   ],
   "source": [
    "# traverse\n",
    "temp = copy.copy(ret)\n",
    "while temp != None:\n",
    "    print(temp.val)\n",
    "    temp = temp.next"
   ]
  },
  {
   "cell_type": "code",
   "execution_count": null,
   "metadata": {
    "collapsed": true
   },
   "outputs": [],
   "source": []
  }
 ],
 "metadata": {
  "kernelspec": {
   "display_name": "Python 3",
   "language": "python",
   "name": "python3"
  },
  "language_info": {
   "codemirror_mode": {
    "name": "ipython",
    "version": 3
   },
   "file_extension": ".py",
   "mimetype": "text/x-python",
   "name": "python",
   "nbconvert_exporter": "python",
   "pygments_lexer": "ipython3",
   "version": "3.5.2"
  }
 },
 "nbformat": 4,
 "nbformat_minor": 2
}
